{
 "cells": [
  {
   "cell_type": "code",
   "execution_count": null,
   "metadata": {},
   "outputs": [],
   "source": []
  },
  {
   "cell_type": "markdown",
   "metadata": {},
   "source": [
    "总结\n",
    "推荐评判标准：\n",
    "主要：正类召回率（优先捕捉潜在订阅客户）。\n",
    "次要：正类 F1 分数（平衡精确率和召回率）。\n",
    "辅助：AUC-ROC 和 AUPRC（评估整体性能和正类表现）。\n",
    "理由：银行营销的目标是识别更多潜在订阅者，召回率直接衡量这一能力。F1 分数确保误报可控，AUC-ROC 和 AUPRC 提供全面性能评估。\n",
    "后续步骤：运行上述代码，比较召回率和 F1 分数的提升。如果召回率仍不足，可进一步调整阈值或尝试 XGBoost。"
   ]
  },
  {
   "cell_type": "code",
   "execution_count": null,
   "metadata": {},
   "outputs": [],
   "source": []
  }
 ],
 "metadata": {
  "kernelspec": {
   "display_name": "Python (myenv)",
   "language": "python",
   "name": "myenv"
  },
  "language_info": {
   "name": "python",
   "version": "3.12.4"
  }
 },
 "nbformat": 4,
 "nbformat_minor": 2
}
