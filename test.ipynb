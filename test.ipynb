{
 "cells": [
  {
   "cell_type": "code",
   "execution_count": 1,
   "metadata": {},
   "outputs": [
    {
     "name": "stderr",
     "output_type": "stream",
     "text": [
      "/opt/anaconda3/lib/python3.12/site-packages/cvxpy/problems/problem.py:1504: UserWarning: Solution may be inaccurate. Try another solver, adjusting the solver settings, or solve with verbose=True for more information.\n",
      "  warnings.warn(\n"
     ]
    },
    {
     "ename": "ValueError",
     "evalue": "优化失败，请检查公平性参数或换用其他求解器。",
     "output_type": "error",
     "traceback": [
      "\u001b[0;31m---------------------------------------------------------------------------\u001b[0m",
      "\u001b[0;31mValueError\u001b[0m                                Traceback (most recent call last)",
      "Cell \u001b[0;32mIn[1], line 66\u001b[0m\n\u001b[1;32m     64\u001b[0m     final_labels \u001b[38;5;241m=\u001b[39m np\u001b[38;5;241m.\u001b[39margmax(assign\u001b[38;5;241m.\u001b[39mvalue, axis\u001b[38;5;241m=\u001b[39m\u001b[38;5;241m1\u001b[39m)\n\u001b[1;32m     65\u001b[0m \u001b[38;5;28;01melse\u001b[39;00m:\n\u001b[0;32m---> 66\u001b[0m     \u001b[38;5;28;01mraise\u001b[39;00m \u001b[38;5;167;01mValueError\u001b[39;00m(\u001b[38;5;124m\"\u001b[39m\u001b[38;5;124m优化失败，请检查公平性参数或换用其他求解器。\u001b[39m\u001b[38;5;124m\"\u001b[39m)\n\u001b[1;32m     68\u001b[0m \u001b[38;5;66;03m# 11. 输出每个聚类中各群体分布（敏感属性为 marital）\u001b[39;00m\n\u001b[1;32m     69\u001b[0m \u001b[38;5;28mprint\u001b[39m(\u001b[38;5;124m\"\u001b[39m\u001b[38;5;130;01m\\n\u001b[39;00m\u001b[38;5;124m✅ 聚类结果中各群体比例（敏感属性：marital）:\u001b[39m\u001b[38;5;124m\"\u001b[39m)\n",
      "\u001b[0;31mValueError\u001b[0m: 优化失败，请检查公平性参数或换用其他求解器。"
     ]
    }
   ],
   "source": [
    "# 安装所需库（如未安装）：\n",
    "# pip install ucimlrepo scikit-learn cvxpy pandas\n",
    "\n",
    "from ucimlrepo import fetch_ucirepo\n",
    "from sklearn.preprocessing import StandardScaler\n",
    "from sklearn.cluster import KMeans\n",
    "import numpy as np\n",
    "import pandas as pd\n",
    "import cvxpy as cp\n",
    "\n",
    "# 1. 导入 bank marketing 数据集\n",
    "bank = fetch_ucirepo(id=222)\n",
    "X_raw = bank.data.features\n",
    "y = bank.data.targets  # 暂时不使用\n",
    "\n",
    "# 2. 选取数值型特征 + 抽样 4000 条数据\n",
    "selected_features = ['age', 'balance', 'duration']\n",
    "X_raw = X_raw.sample(n=4000, random_state=42).reset_index(drop=True)\n",
    "X = X_raw[selected_features].copy()\n",
    "\n",
    "# 3. 标准化特征\n",
    "scaler = StandardScaler()\n",
    "X_scaled = scaler.fit_transform(X)\n",
    "\n",
    "# 4. 提取敏感属性（如：marital）\n",
    "sensitive_attr = X_raw['marital'].values\n",
    "groups = np.unique(sensitive_attr)\n",
    "group_indices = {g: np.where(sensitive_attr == g)[0] for g in groups}\n",
    "\n",
    "# 5. 初始 KMeans 聚类\n",
    "k = 4\n",
    "kmeans = KMeans(n_clusters=k, random_state=0).fit(X_scaled)\n",
    "initial_centers = kmeans.cluster_centers_\n",
    "\n",
    "# 6. 构建距离矩阵（每个点到每个中心的距离）\n",
    "n = X_scaled.shape[0]\n",
    "dist_matrix = np.linalg.norm(X_scaled[:, np.newaxis, :] - initial_centers, axis=2)\n",
    "\n",
    "# 7. 定义公平性参数（基于全局比例）\n",
    "alpha = 1.2  # 最多不能超过整体比例的 120%\n",
    "beta = 0.8   # 最少不能低于整体比例的 80%\n",
    "ri = {g: len(idx)/n for g, idx in group_indices.items()}\n",
    "\n",
    "# 8. 定义变量和优化目标\n",
    "assign = cp.Variable((n, k), boolean=True)\n",
    "objective = cp.Minimize(cp.sum(cp.multiply(assign, dist_matrix)))\n",
    "constraints = [cp.sum(assign[i, :]) == 1 for i in range(n)]\n",
    "\n",
    "# 加入公平性约束\n",
    "for j in range(k):\n",
    "    cluster_size = cp.sum(assign[:, j])\n",
    "    for g in groups:\n",
    "        idx = group_indices[g]\n",
    "        group_assign = cp.sum(assign[idx, j])\n",
    "        constraints.append(group_assign >= beta * ri[g] * cluster_size)\n",
    "        constraints.append(group_assign <= alpha * ri[g] * cluster_size)\n",
    "\n",
    "# 9. 求解公平再分配问题（使用 ECOS_BB）\n",
    "problem = cp.Problem(objective, constraints)\n",
    "problem.solve(solver=cp.ECOS_BB)\n",
    "\n",
    "# 10. 提取最终聚类结果\n",
    "if assign.value is not None:\n",
    "    final_labels = np.argmax(assign.value, axis=1)\n",
    "else:\n",
    "    raise ValueError(\"优化失败，请检查公平性参数或换用其他求解器。\")\n",
    "\n",
    "# 11. 输出每个聚类中各群体分布（敏感属性为 marital）\n",
    "print(\"\\n✅ 聚类结果中各群体比例（敏感属性：marital）:\")\n",
    "for j in range(k):\n",
    "    print(f\"\\nCluster {j}:\")\n",
    "    cluster_idx = np.where(final_labels == j)[0]\n",
    "    for g in groups:\n",
    "        g_count = np.sum(sensitive_attr[cluster_idx] == g)\n",
    "        print(f\"  {g}: {g_count / len(cluster_idx):.2f}\")\n"
   ]
  },
  {
   "cell_type": "markdown",
   "metadata": {},
   "source": [
    "总结\n",
    "推荐评判标准：\n",
    "主要：正类召回率（优先捕捉潜在订阅客户）。\n",
    "次要：正类 F1 分数（平衡精确率和召回率）。\n",
    "辅助：AUC-ROC 和 AUPRC（评估整体性能和正类表现）。\n",
    "理由：银行营销的目标是识别更多潜在订阅者，召回率直接衡量这一能力。F1 分数确保误报可控，AUC-ROC 和 AUPRC 提供全面性能评估。\n",
    "后续步骤：运行上述代码，比较召回率和 F1 分数的提升。如果召回率仍不足，可进一步调整阈值或尝试 XGBoost。"
   ]
  },
  {
   "cell_type": "code",
   "execution_count": null,
   "metadata": {},
   "outputs": [],
   "source": []
  }
 ],
 "metadata": {
  "kernelspec": {
   "display_name": "Python (myenv)",
   "language": "python",
   "name": "myenv"
  },
  "language_info": {
   "codemirror_mode": {
    "name": "ipython",
    "version": 3
   },
   "file_extension": ".py",
   "mimetype": "text/x-python",
   "name": "python",
   "nbconvert_exporter": "python",
   "pygments_lexer": "ipython3",
   "version": "3.12.4"
  }
 },
 "nbformat": 4,
 "nbformat_minor": 2
}
