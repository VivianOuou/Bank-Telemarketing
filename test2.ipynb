{
 "cells": [
  {
   "cell_type": "code",
   "execution_count": 1,
   "metadata": {},
   "outputs": [],
   "source": [
    "import pandas as pd\n",
    "import numpy as np\n",
    "from ucimlrepo import fetch_ucirepo\n",
    "\n",
    "# 1. 加载原始数据\n",
    "bank_marketing = fetch_ucirepo(id=222)\n",
    "X = bank_marketing.data.features.copy()\n",
    "y = bank_marketing.data.targets['y']\n",
    "\n",
    "# 2. 缺失处理\n",
    "X['job'] = X['job'].fillna('unknown')\n",
    "X['education'] = X['education'].fillna('unknown')\n",
    "X['contact'] = X['contact'].fillna('unknown')\n",
    "X = X.drop(columns=['poutcome'])  # 缺失太多\n",
    "\n",
    "# 3. 对偏态数值变量做 log1p（不影响分类变量）\n",
    "skewed_cols = ['balance', 'duration', 'campaign', 'pdays', 'previous']\n",
    "for col in skewed_cols:\n",
    "    if (X[col] <= 0).any():\n",
    "        shift = 1 - X[col].min()\n",
    "        X[col] = np.log1p(X[col] + shift)\n",
    "    else:\n",
    "        X[col] = np.log1p(X[col])\n"
   ]
  },
  {
   "cell_type": "code",
   "execution_count": 4,
   "metadata": {},
   "outputs": [
    {
     "name": "stdout",
     "output_type": "stream",
     "text": [
      "各特征互信息得分：\n",
      "duration       0.072425\n",
      "pdays          0.027103\n",
      "month          0.026647\n",
      "balance        0.022435\n",
      "housing        0.018158\n",
      "contact        0.016686\n",
      "previous       0.014274\n",
      "age            0.012334\n",
      "job            0.007936\n",
      "campaign       0.006641\n",
      "day_of_week    0.006228\n",
      "education      0.006122\n",
      "marital        0.005021\n",
      "loan           0.003710\n",
      "default        0.000000\n",
      "dtype: float64\n",
      "\n",
      "原始特征数量：15\n",
      "互信息筛选后保留特征数量：15\n",
      "保留的特征名： ['duration', 'pdays', 'month', 'balance', 'housing', 'contact', 'previous', 'age', 'job', 'campaign', 'day_of_week', 'education', 'marital', 'loan', 'default']\n"
     ]
    }
   ],
   "source": [
    "from sklearn.feature_selection import mutual_info_classif\n",
    "from sklearn.preprocessing import LabelEncoder\n",
    "\n",
    "# 将目标变量转为 0/1\n",
    "y_binary = y.map({'yes': 1, 'no': 0})\n",
    "\n",
    "# 拷贝一份用于 LabelEncode\n",
    "X_encoded = X.copy()\n",
    "categorical_cols = X_encoded.select_dtypes(include='object').columns.tolist()\n",
    "\n",
    "# 分类变量 LabelEncoder（只用于特征筛选，不用于建模）\n",
    "encoders = {}\n",
    "for col in categorical_cols:\n",
    "    le = LabelEncoder()\n",
    "    X_encoded[col] = le.fit_transform(X_encoded[col])\n",
    "    encoders[col] = le\n",
    "\n",
    "# 计算互信息得分\n",
    "mi_scores = mutual_info_classif(X_encoded, y_binary, discrete_features='auto')\n",
    "mi_series = pd.Series(mi_scores, index=X.columns).sort_values(ascending=False)\n",
    "\n",
    "# 输出互信息得分\n",
    "print(\"各特征互信息得分：\")\n",
    "print(mi_series)\n",
    "\n",
    "# 选出前 k 个特征（不会超过现有数量）\n",
    "k = min(20, X_encoded.shape[1])\n",
    "top_features = mi_series.head(k).index.tolist()\n",
    "\n",
    "print(f\"\\n原始特征数量：{X.shape[1]}\")\n",
    "print(f\"互信息筛选后保留特征数量：{len(top_features)}\")\n",
    "print(\"保留的特征名：\", top_features)\n"
   ]
  },
  {
   "cell_type": "code",
   "execution_count": 5,
   "metadata": {},
   "outputs": [
    {
     "name": "stdout",
     "output_type": "stream",
     "text": [
      "\n",
      "L1 正则筛选后保留特征数：34\n",
      "保留的特征名： ['duration', 'pdays', 'balance', 'previous', 'campaign', 'day_of_week', 'month_aug', 'month_dec', 'month_jan', 'month_jul', 'month_jun', 'month_mar', 'month_may', 'month_nov', 'month_oct', 'month_sep', 'housing_yes', 'contact_telephone', 'contact_unknown', 'job_blue-collar', 'job_entrepreneur', 'job_housemaid', 'job_management', 'job_retired', 'job_self-employed', 'job_services', 'job_student', 'job_technician', 'education_secondary', 'education_tertiary', 'education_unknown', 'marital_married', 'marital_single', 'loan_yes']\n"
     ]
    }
   ],
   "source": [
    "from sklearn.linear_model import LogisticRegression\n",
    "from sklearn.feature_selection import SelectFromModel\n",
    "from sklearn.pipeline import Pipeline\n",
    "from sklearn.preprocessing import OneHotEncoder, StandardScaler\n",
    "from sklearn.compose import ColumnTransformer\n",
    "\n",
    "# 取出互信息筛选后的变量\n",
    "X_selected = X[top_features]  # 保留这15个变量\n",
    "y_binary = y.map({'yes': 1, 'no': 0})\n",
    "\n",
    "# 数值+分类列\n",
    "num_cols = X_selected.select_dtypes(include=['int64', 'float64']).columns.tolist()\n",
    "cat_cols = X_selected.select_dtypes(include='object').columns.tolist()\n",
    "\n",
    "# 构建预处理器\n",
    "preprocessor = ColumnTransformer(\n",
    "    transformers=[\n",
    "        ('num', StandardScaler(), num_cols),\n",
    "        ('cat', OneHotEncoder(drop='first', sparse_output=False), cat_cols)\n",
    "    ]\n",
    ")\n",
    "\n",
    "# 建立带稀疏选择的模型管道\n",
    "model = Pipeline([\n",
    "    ('preprocess', preprocessor),\n",
    "    ('select', SelectFromModel(LogisticRegression(penalty='l1', solver='liblinear', C=0.1)))\n",
    "])\n",
    "\n",
    "# 拟合模型\n",
    "model.fit(X_selected, y_binary)\n",
    "\n",
    "# 获取稀疏选择后的变量掩码\n",
    "selected_mask = model.named_steps['select'].get_support()\n",
    "\n",
    "# 获取预处理后的特征名\n",
    "ohe_feature_names = list(preprocessor.named_transformers_['cat'].get_feature_names_out(cat_cols))\n",
    "all_feature_names = num_cols + ohe_feature_names\n",
    "\n",
    "# 筛选后变量名\n",
    "final_features = [name for i, name in enumerate(all_feature_names) if selected_mask[i]]\n",
    "\n",
    "print(f\"\\nL1 正则筛选后保留特征数：{len(final_features)}\")\n",
    "print(\"保留的特征名：\", final_features)\n"
   ]
  },
  {
   "cell_type": "code",
   "execution_count": 7,
   "metadata": {},
   "outputs": [
    {
     "name": "stdout",
     "output_type": "stream",
     "text": [
      "\n",
      "随机森林特征重要性排名：\n",
      "duration               0.283234\n",
      "balance                0.104977\n",
      "age                    0.100124\n",
      "day_of_week            0.093040\n",
      "pdays                  0.058525\n",
      "campaign               0.041263\n",
      "previous               0.028802\n",
      "housing_yes            0.024559\n",
      "contact_unknown        0.015261\n",
      "month_mar              0.013945\n",
      "education_secondary    0.013460\n",
      "marital_married        0.012279\n",
      "education_tertiary     0.011989\n",
      "month_oct              0.011756\n",
      "month_aug              0.011287\n",
      "job_technician         0.011215\n",
      "month_jun              0.011208\n",
      "dtype: float64\n"
     ]
    }
   ],
   "source": [
    "from sklearn.ensemble import RandomForestClassifier\n",
    "from sklearn.pipeline import make_pipeline\n",
    "\n",
    "# 创建随机森林管道\n",
    "rf_model = Pipeline([\n",
    "    ('preprocess', preprocessor),\n",
    "    ('rf', RandomForestClassifier(n_estimators=100, random_state=42))\n",
    "])\n",
    "\n",
    "rf_model.fit(X_selected, y_binary)\n",
    "\n",
    "# 获取特征重要性\n",
    "importances = rf_model.named_steps['rf'].feature_importances_\n",
    "importance_series = pd.Series(importances, index=all_feature_names).sort_values(ascending=False)\n",
    "\n",
    "# 打印重要性排名前N\n",
    "print(\"\\n随机森林特征重要性排名：\")\n",
    "print(importance_series.head(17))\n"
   ]
  },
  {
   "cell_type": "markdown",
   "metadata": {},
   "source": [
    "你想我接下来帮你写哪种聚类分析流程？可以选：\n",
    "\n",
    "✅ PCA + KMeans + 可视化聚类结构\n",
    "✅ UMAP + KMeans\n",
    "✅ 用这10个变量做 DBSCAN / Agglomerative clustering\n",
    "✅ 先降维再可视化 + 群体解释分析（特征均值对比）这四种方法都给我返回一下"
   ]
  },
  {
   "cell_type": "code",
   "execution_count": null,
   "metadata": {},
   "outputs": [],
   "source": []
  }
 ],
 "metadata": {
  "kernelspec": {
   "display_name": "Python (myenv)",
   "language": "python",
   "name": "myenv"
  },
  "language_info": {
   "codemirror_mode": {
    "name": "ipython",
    "version": 3
   },
   "file_extension": ".py",
   "mimetype": "text/x-python",
   "name": "python",
   "nbconvert_exporter": "python",
   "pygments_lexer": "ipython3",
   "version": "3.12.4"
  }
 },
 "nbformat": 4,
 "nbformat_minor": 2
}
